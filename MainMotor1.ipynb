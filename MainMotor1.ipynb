from pynq import Overlay
Overlay("base.bit").download()

#from MotorFunctions import*
from MotorFunctions import MFunction
import time

#1000 - 2000, 50:for 15 degree movement
#3000 neutral
#4000 - 5000, 50: counter clockwise
#2500, 50: clockwise small angle
#2000, 50: clockwise 15 angle

#counter clockwise large
#for i in range(1, 3):
#Motor = MFunction(2, 4650, 98)

#Testing for steering motor
#0: For counter clockwise
#1: For clockwise

t = 0
if(t == 0):
    for i in range(0, 1):
        Motor = MFunction(2, 4550, 98)
        time.sleep(.01)
elif(t == 1):
    for i in range(0, 1):
        Motor = MFunction(2, 2650, 50)
        time.sleep(.01)

Motor.stop()