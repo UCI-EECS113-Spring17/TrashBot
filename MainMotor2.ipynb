from pynq import Overlay
Overlay("base.bit").download()

#from MotorFunctions import*
from MotorFunctions import MFunction
import time

#Testing for backwheel motor
#0: For counter clockwise - Backward motion
#1: For clockwise - Forward motion
t = 1
if(t == 0):
    for i in range(0, 1):
        Motor = MFunction(2, 4550, 98)
        time.sleep(1)
elif(t == 1):
    for i in range(0, 1):
        Motor = MFunction(2, 2000, 50)
        time.sleep(1)
        
#for i in range(0, 1):
#    Motor = MFunction(2, 4550, 98)
#    time.sleep(.01)

#for i in range(0, 1):
#    Motor = MFunction(2, 2550, 50)
#    time.sleep(.01)
#time.sleep(1)

Motor.stop()